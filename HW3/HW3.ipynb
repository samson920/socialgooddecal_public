{
 "cells": [
  {
   "cell_type": "markdown",
   "metadata": {},
   "source": [
    "## HW/Lab 3: Getting Practice w/ ML Models"
   ]
  },
  {
   "cell_type": "markdown",
   "metadata": {},
   "source": [
    "In this assignment, we will give you practice with different ML libraries and techniques to predict the outcomes of animals in an animal shelter.\n",
    " \n",
    "This assignment will be due 11/6 at 6PM. We will not be taking late assignments."
   ]
  },
  {
   "cell_type": "code",
   "execution_count": 3,
   "metadata": {
    "collapsed": true
   },
   "outputs": [],
   "source": [
    "import pandas as pd\n",
    "import numpy as np\n",
    "from sklearn.model_selection import train_test_split"
   ]
  },
  {
   "cell_type": "code",
   "execution_count": 4,
   "metadata": {
    "collapsed": true
   },
   "outputs": [],
   "source": [
    "animal_shelters = pd.read_csv('animal_shelter_outcomes.csv')"
   ]
  },
  {
   "cell_type": "markdown",
   "metadata": {},
   "source": [
    "### Data Cleaning"
   ]
  },
  {
   "cell_type": "markdown",
   "metadata": {},
   "source": [
    "Before we start, we need to make sure that our data has been cleaned. Let's first start by investigating the data:"
   ]
  },
  {
   "cell_type": "code",
   "execution_count": 5,
   "metadata": {},
   "outputs": [
    {
     "data": {
      "text/html": [
       "<div>\n",
       "<style>\n",
       "    .dataframe thead tr:only-child th {\n",
       "        text-align: right;\n",
       "    }\n",
       "\n",
       "    .dataframe thead th {\n",
       "        text-align: left;\n",
       "    }\n",
       "\n",
       "    .dataframe tbody tr th {\n",
       "        vertical-align: top;\n",
       "    }\n",
       "</style>\n",
       "<table border=\"1\" class=\"dataframe\">\n",
       "  <thead>\n",
       "    <tr style=\"text-align: right;\">\n",
       "      <th></th>\n",
       "      <th>age_upon_outcome</th>\n",
       "      <th>animal_type</th>\n",
       "      <th>breed</th>\n",
       "      <th>color</th>\n",
       "      <th>date_of_birth</th>\n",
       "      <th>datetime</th>\n",
       "      <th>monthyear</th>\n",
       "      <th>name</th>\n",
       "      <th>sex_upon_outcome</th>\n",
       "      <th>outcome_type</th>\n",
       "    </tr>\n",
       "  </thead>\n",
       "  <tbody>\n",
       "    <tr>\n",
       "      <th>0</th>\n",
       "      <td>2 weeks</td>\n",
       "      <td>Cat</td>\n",
       "      <td>Domestic Shorthair Mix</td>\n",
       "      <td>Orange Tabby</td>\n",
       "      <td>2014-07-07T00:00:00</td>\n",
       "      <td>2014-07-22T16:04:00</td>\n",
       "      <td>2014-07-22T16:04:00</td>\n",
       "      <td>NaN</td>\n",
       "      <td>Intact Male</td>\n",
       "      <td>Transfer</td>\n",
       "    </tr>\n",
       "    <tr>\n",
       "      <th>1</th>\n",
       "      <td>1 year</td>\n",
       "      <td>Dog</td>\n",
       "      <td>Beagle Mix</td>\n",
       "      <td>White/Brown</td>\n",
       "      <td>2012-11-06T00:00:00</td>\n",
       "      <td>2013-11-07T11:47:00</td>\n",
       "      <td>2013-11-07T11:47:00</td>\n",
       "      <td>Lucy</td>\n",
       "      <td>Spayed Female</td>\n",
       "      <td>Transfer</td>\n",
       "    </tr>\n",
       "    <tr>\n",
       "      <th>2</th>\n",
       "      <td>1 year</td>\n",
       "      <td>Dog</td>\n",
       "      <td>Pit Bull</td>\n",
       "      <td>Blue/White</td>\n",
       "      <td>2013-03-31T00:00:00</td>\n",
       "      <td>2014-06-03T14:20:00</td>\n",
       "      <td>2014-06-03T14:20:00</td>\n",
       "      <td>*Johnny</td>\n",
       "      <td>Neutered Male</td>\n",
       "      <td>Adoption</td>\n",
       "    </tr>\n",
       "    <tr>\n",
       "      <th>3</th>\n",
       "      <td>9 years</td>\n",
       "      <td>Dog</td>\n",
       "      <td>Miniature Schnauzer Mix</td>\n",
       "      <td>White</td>\n",
       "      <td>2005-06-02T00:00:00</td>\n",
       "      <td>2014-06-15T15:50:00</td>\n",
       "      <td>2014-06-15T15:50:00</td>\n",
       "      <td>Monday</td>\n",
       "      <td>Neutered Male</td>\n",
       "      <td>Transfer</td>\n",
       "    </tr>\n",
       "    <tr>\n",
       "      <th>4</th>\n",
       "      <td>3 years</td>\n",
       "      <td>Dog</td>\n",
       "      <td>Chihuahua Shorthair Mix</td>\n",
       "      <td>Brown</td>\n",
       "      <td>2011-11-23T00:00:00</td>\n",
       "      <td>2014-12-08T15:55:00</td>\n",
       "      <td>2014-12-08T15:55:00</td>\n",
       "      <td>*Ella</td>\n",
       "      <td>Spayed Female</td>\n",
       "      <td>Transfer</td>\n",
       "    </tr>\n",
       "  </tbody>\n",
       "</table>\n",
       "</div>"
      ],
      "text/plain": [
       "  age_upon_outcome animal_type                    breed         color  \\\n",
       "0          2 weeks         Cat   Domestic Shorthair Mix  Orange Tabby   \n",
       "1           1 year         Dog               Beagle Mix   White/Brown   \n",
       "2           1 year         Dog                 Pit Bull    Blue/White   \n",
       "3          9 years         Dog  Miniature Schnauzer Mix         White   \n",
       "4          3 years         Dog  Chihuahua Shorthair Mix         Brown   \n",
       "\n",
       "         date_of_birth             datetime            monthyear     name  \\\n",
       "0  2014-07-07T00:00:00  2014-07-22T16:04:00  2014-07-22T16:04:00      NaN   \n",
       "1  2012-11-06T00:00:00  2013-11-07T11:47:00  2013-11-07T11:47:00     Lucy   \n",
       "2  2013-03-31T00:00:00  2014-06-03T14:20:00  2014-06-03T14:20:00  *Johnny   \n",
       "3  2005-06-02T00:00:00  2014-06-15T15:50:00  2014-06-15T15:50:00   Monday   \n",
       "4  2011-11-23T00:00:00  2014-12-08T15:55:00  2014-12-08T15:55:00    *Ella   \n",
       "\n",
       "  sex_upon_outcome outcome_type  \n",
       "0      Intact Male     Transfer  \n",
       "1    Spayed Female     Transfer  \n",
       "2    Neutered Male     Adoption  \n",
       "3    Neutered Male     Transfer  \n",
       "4    Spayed Female     Transfer  "
      ]
     },
     "execution_count": 5,
     "metadata": {},
     "output_type": "execute_result"
    }
   ],
   "source": [
    "animal_shelters.head()"
   ]
  },
  {
   "cell_type": "markdown",
   "metadata": {},
   "source": [
    "Upon investigation, we have various columns that are categorical (breed, color, outcome_type, sex_upon_outcome), and some semi-numerical columns (age_upon_outcome, the dates). \n",
    "\n",
    "Let's first convert all columns that resemble numerical forms to numerical features (ex: you could turn age_upon_outcome to an age in days). "
   ]
  },
  {
   "cell_type": "code",
   "execution_count": null,
   "metadata": {
    "collapsed": true
   },
   "outputs": [],
   "source": []
  },
  {
   "cell_type": "markdown",
   "metadata": {},
   "source": [
    "Now, we can tackle the name column: we see that some animals have a name already, while some don't have a name at all (NaN value). We can change this column to a column that indicates if the animal has been given a name (i.e. its name is not NaN). In the cell below, convert this column to a column that indicates if the animal has been given a name. \n",
    "\n",
    "Hint: The `.apply` syntax in Pandas may be helpful."
   ]
  },
  {
   "cell_type": "code",
   "execution_count": null,
   "metadata": {
    "collapsed": true
   },
   "outputs": [],
   "source": []
  },
  {
   "cell_type": "markdown",
   "metadata": {},
   "source": [
    "Since the models we'll be working with only work with numerical data, we will have to convert the categorical data to something that our models can work with. To do so, we can use one-hot encoding, which does the following: \n",
    "\n",
    "![one-hot](one-hot.png)\n",
    "\n",
    "This allows us to encode our categorical variables as numerical ones that our model can take in.\n",
    "\n",
    "In the cell below, convert categorical variables to one-hot encodings. The `pandas.get_dummies` method may be useful."
   ]
  },
  {
   "cell_type": "code",
   "execution_count": null,
   "metadata": {
    "collapsed": true
   },
   "outputs": [],
   "source": []
  },
  {
   "cell_type": "markdown",
   "metadata": {},
   "source": [
    "Now, before we move on, we will split our dataset into a training set and a test set. Run the cell below to convert it to two sets:"
   ]
  },
  {
   "cell_type": "code",
   "execution_count": 23,
   "metadata": {
    "collapsed": true
   },
   "outputs": [],
   "source": [
    "animal_shelters_train, animal_shelters_test = train_test_split(animal_shelters, test_size=0.25, random_state=42)"
   ]
  },
  {
   "cell_type": "markdown",
   "metadata": {},
   "source": [
    "### Logistic Regression"
   ]
  },
  {
   "cell_type": "markdown",
   "metadata": {},
   "source": [
    "Now, we can apply a logistic regression model to our data in order to predict the outcome type for a given animal in a shelter. \n",
    "\n",
    "Before we get started, let's answer the following questions to review logistic regression."
   ]
  },
  {
   "cell_type": "markdown",
   "metadata": {},
   "source": [
    "1. What is the difference between linear regression and logistic regression? \n",
    "2. What are some advantages of using logistic regression on a dataset as opposed to other classification techniques?"
   ]
  },
  {
   "cell_type": "markdown",
   "metadata": {},
   "source": [
    "Answers:\n",
    "1. \n",
    "2. "
   ]
  },
  {
   "cell_type": "markdown",
   "metadata": {},
   "source": [
    "Now, we can begin to train a logistic regression model. You can refer to the documentation for SKLearn's logistic regression model [here](http://scikit-learn.org/stable/modules/generated/sklearn.linear_model.LogisticRegression.html).\n",
    "\n",
    "First, create a model and train it. Before doing so, you'll need to separate the data and the labels (remember, we are predicting the outcome type here, so that is our label).\n",
    "\n",
    "In the cell below, separate the data and the labels:"
   ]
  },
  {
   "cell_type": "code",
   "execution_count": null,
   "metadata": {
    "collapsed": true
   },
   "outputs": [],
   "source": []
  },
  {
   "cell_type": "markdown",
   "metadata": {},
   "source": [
    "Now, create and fit a logistic regression model: "
   ]
  },
  {
   "cell_type": "code",
   "execution_count": null,
   "metadata": {
    "collapsed": true
   },
   "outputs": [],
   "source": []
  },
  {
   "cell_type": "markdown",
   "metadata": {},
   "source": [
    "How does your model perform? Which metrics can we use here, and how does your model perform under those metrics?"
   ]
  },
  {
   "cell_type": "code",
   "execution_count": null,
   "metadata": {
    "collapsed": true
   },
   "outputs": [],
   "source": []
  },
  {
   "cell_type": "markdown",
   "metadata": {
    "collapsed": true
   },
   "source": [
    "### Neural Networks"
   ]
  },
  {
   "cell_type": "markdown",
   "metadata": {},
   "source": [
    "Now, we will approach the same classification task using a neural network. There are many neural network libraries, but for the sake of this assignment, we will use SKLearn's MLPClassifier [described here.](http://scikit-learn.org/stable/modules/generated/sklearn.neural_network.MLPClassifier.html)\n",
    "\n",
    "In the cell below, train and fit a neural network model:"
   ]
  },
  {
   "cell_type": "code",
   "execution_count": null,
   "metadata": {
    "collapsed": true
   },
   "outputs": [],
   "source": []
  },
  {
   "cell_type": "markdown",
   "metadata": {},
   "source": [
    "Now, make predictions from the neural network and evaluate its accuracy (you can use whichever accuracy metric you find best here)."
   ]
  },
  {
   "cell_type": "code",
   "execution_count": null,
   "metadata": {
    "collapsed": true
   },
   "outputs": [],
   "source": []
  },
  {
   "cell_type": "markdown",
   "metadata": {},
   "source": [
    "The MLPClassifier defaults to having 1 hidden layer of size 100. \n",
    "\n",
    "In the cell below, experiment with the `hidden_layer_sizes` argument to see how it affects our accuracy. Which configuration leads to the best accuracy? (Note: Generally we would use cross-validation to determine the `hidden_layer_sizes`, since it's a hyperparameter (a parameter that isn't calculated by the model), but for the sake of simplicity we don't need to do that here)"
   ]
  },
  {
   "cell_type": "markdown",
   "metadata": {},
   "source": []
  }
 ],
 "metadata": {
  "kernelspec": {
   "display_name": "Python 3",
   "language": "python",
   "name": "python3"
  },
  "language_info": {
   "codemirror_mode": {
    "name": "ipython",
    "version": 3
   },
   "file_extension": ".py",
   "mimetype": "text/x-python",
   "name": "python",
   "nbconvert_exporter": "python",
   "pygments_lexer": "ipython3",
   "version": "3.5.4"
  }
 },
 "nbformat": 4,
 "nbformat_minor": 2
}
